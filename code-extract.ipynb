{
 "cells": [
  {
   "cell_type": "markdown",
   "metadata": {},
   "source": [
    "# Importando as Bibliotecas"
   ]
  },
  {
   "cell_type": "code",
   "execution_count": 65,
   "metadata": {},
   "outputs": [],
   "source": [
    "import pandas as pd\n",
    "import imaplib\n",
    "import email\n",
    "import yaml  \n",
    "import quopri\n",
    "import re\n",
    "import json\n",
    "import gspread\n",
    "from oauth2client.service_account import ServiceAccountCredentials\n"
   ]
  },
  {
   "cell_type": "code",
   "execution_count": 66,
   "metadata": {},
   "outputs": [],
   "source": [
    "pd.set_option('display.max_columns', None)\n",
    "pd.set_option('display.max_rows', None)\n",
    "pd.set_option('display.max_colwidth', None)"
   ]
  },
  {
   "cell_type": "markdown",
   "metadata": {},
   "source": [
    "# Extraindo as Informações do Email\n"
   ]
  },
  {
   "cell_type": "code",
   "execution_count": 67,
   "metadata": {},
   "outputs": [],
   "source": [
    "with open(\"credentials.yml\") as f:  # Abre o arquivo \"credentials.yml\" para leitura\n",
    "    content = f.read()\n",
    "\n",
    "\n",
    "my_credentials = yaml.load(content, Loader=yaml.FullLoader) # Importar o nome de usuário e a senha do arquivo YAML\n",
    "\n",
    "user, password = my_credentials[\"user\"], my_credentials[\"password\"] # Carrega o nome do usuário e a senha do arquivo YAML\n",
    "\n",
    "imap_url = 'imap.gmail.com' # URL para conexão IMAP\n",
    "\n",
    "my_mail = imaplib.IMAP4_SSL(imap_url) # Conexão com o GMAIL usando SSL\n",
    "my_mail.login(user, password) # Fazer login usando as credenciais\n",
    "my_mail.select('Inbox') # Selecionar a Caixa de Entrada para buscar mensagens\n",
    "\n",
    "\n",
    "key = 'FROM' # Definir a chave para a pesquisa de e-mail\n",
    "value = 'lucas.rossi@videosoft.com.br' # Definir o valor para a pesquisa de e-mail\n",
    "\n",
    "_, data = my_mail.search(None, '(UNSEEN)', key, value)  # Buscar e-mails com chave e valor específicos\n",
    "\n",
    "\n",
    "mail_id_list = data[0].split() # IDs de todos os e-mails que queremos buscar\n",
    "\n",
    "msgs = [] # Lista vazia para armazenar todas as mensagens\n",
    "for num in mail_id_list: # Iterar pelas mensagens e extrair os dados para a lista msgs\n",
    "    typ, data = my_mail.fetch(num, '(RFC822)') # RFC822 retorna a mensagem inteira (BODY busca apenas o corpo)\n",
    "    msgs.append(data)\n",
    "\n",
    "\n",
    "email_results = []\n",
    "for msg in msgs[::-1]: # Iterar pelas mensagens para extrair informações\n",
    "    for response_part in msg:\n",
    "        if type(response_part) is tuple:\n",
    "            my_msg = email.message_from_bytes((response_part[1]))\n",
    "            email_info = {\n",
    "                \"subject\": my_msg['subject'],\n",
    "                \"from\": my_msg['from'],\n",
    "                \"body\": \"\" # Inicialmente, o corpo do e-mail é definido como vazio\n",
    "            }\n",
    "            for part in my_msg.walk():  \n",
    "                if part.get_content_type() == 'text/plain':  # Se for texto simples, atribuir o corpo ao dicionário\n",
    "                    email_info[\"body\"] = part.get_payload()\n",
    "            email_results.append(email_info)  # Adicionar o dicionário de informações do e-mail à lista"
   ]
  },
  {
   "cell_type": "markdown",
   "metadata": {},
   "source": [
    "# Transformando o Dado\n"
   ]
  },
  {
   "cell_type": "code",
   "execution_count": 68,
   "metadata": {},
   "outputs": [],
   "source": [
    "data_json = json.dumps([email_results], separators = (',',':')) # converter a lista email_results em formato JSON"
   ]
  },
  {
   "cell_type": "code",
   "execution_count": 69,
   "metadata": {},
   "outputs": [],
   "source": [
    "def decode(value):  # Função para decodificar uma string codificada no formato Quoted-Printable\n",
    "    decoded_bytes = quopri.decodestring(value.encode('utf-8'))  # Decodifica os bytes codificados usando Quoted-Printable para bytes decodificados\n",
    "    decoded_text =  decoded_bytes.decode('utf-8')  # Decodifica os bytes decodificados em uma string de texto\n",
    "    return decoded_text  # Retorna a string de texto decodificada"
   ]
  },
  {
   "cell_type": "code",
   "execution_count": 70,
   "metadata": {},
   "outputs": [],
   "source": [
    "data_decode = decode(data_json) # Aplicando a função na variável data_json"
   ]
  },
  {
   "cell_type": "code",
   "execution_count": 71,
   "metadata": {},
   "outputs": [],
   "source": [
    "data = json.loads(data_decode) # Carrega os dados JSON decodificados em uma estrutura de dados Python"
   ]
  },
  {
   "cell_type": "code",
   "execution_count": 72,
   "metadata": {},
   "outputs": [],
   "source": [
    "data_dic = data[0] # Acessar o primeiro elemento da lista de dados e armazená-lo em data_dic"
   ]
  },
  {
   "cell_type": "code",
   "execution_count": 73,
   "metadata": {},
   "outputs": [],
   "source": [
    "df = pd.DataFrame(data_dic) # Transforma o Dicionário data_dic em DataFrame e salva na variável df "
   ]
  },
  {
   "cell_type": "code",
   "execution_count": 74,
   "metadata": {},
   "outputs": [],
   "source": [
    "\n",
    "pattern_cnpj = r\"\\d{14}\" # Expressão regular para encontrar CNPJ com 14 dígitos numéricos\n",
    "pattern_phone = r\"\\(\\d{2}\\)\\d{9}\" # Expressão regular para encontrar número de telefone no formato (XX)XXXXXXXXX\n",
    "pattern_social = r\"\\*Razão social : \\*(.*?)\\r\\n\\*Nome Fantasia:\" # Expressão regular para extrair a \"Razão Social\" de um texto\n",
    "pattern_email = r\"\\b[A-Za-z0-9._%+-]+@[A-Za-z0-9.-]+\\.[A-Z|a-z]{2,7}\\b\" # Expressão regular para encontrar endereços de e-mail válidos\n",
    "pattern_description = r'Totem Auto atendimento \\(piso 27\"\\) LOCAÇÃO' # Expressão regular para encontrar uma descrição específica\n",
    "pattern_description2 = r\"Totem Auto atendimento \\(balcão vertical\\) LOCAÇÃO\" # Expressão regular para encontrar outra descrição específica\n",
    "pattern_quantity = r\"Não se aplica (\\d+,\\d+)\" # Expressão regular para encontrar uma quantidade específica\n",
    "pattern_value = r\"BRL (\\d+,\\d+)\" # Expressão regular para encontrar um valor no formato \"BRL X,Y\"\n"
   ]
  },
  {
   "cell_type": "code",
   "execution_count": 75,
   "metadata": {},
   "outputs": [],
   "source": [
    "df['cnpjs'] = df['body'].apply(lambda x: re.findall(pattern_cnpj, x)) # Aplicar a expressão regular pattern_cnpj à coluna 'body' e criar uma nova coluna 'cnpjs'\n",
    "df['phone'] = df['body'].apply(lambda x: re.findall(pattern_phone, x)) # Aplicar a expressão regular pattern_phone à coluna 'body' e criar uma nova coluna 'phone'\n",
    "df['social'] = df['body'].apply(lambda x: re.findall(pattern_social, x)) # Aplicar a expressão regular pattern_social à coluna 'body' e criar uma nova coluna 'social'\n",
    "df['email'] = df['body'].apply(lambda x: re.findall(pattern_email, x)) # Aplicar a expressão regular pattern_email à coluna 'body' e criar uma nova coluna 'email'\n",
    "df['description1'] = df['body'].apply(lambda x: re.findall(pattern_description, x)) # Aplicar a expressão regular pattern_description à coluna 'body' e criar uma nova coluna 'description1'\n",
    "df['description2'] = df['body'].apply(lambda x: re.findall(pattern_description2, x)) # Aplicar a expressão regular pattern_description à coluna 'body' e criar uma nova coluna 'description2'\n",
    "df['quantity'] = df['body'].apply(lambda x: re.findall(pattern_quantity, x)) # Aplicar a expressão regular pattern_description à coluna 'body' e criar uma nova coluna 'qauntity'\n",
    "df['value'] = df['body'].apply(lambda x: re.findall(pattern_value, x)) # Aplicar a expressão regular pattern_value à coluna 'body' e criar uma nova coluna 'value'\n",
    "\n",
    "\n",
    "\n"
   ]
  },
  {
   "cell_type": "code",
   "execution_count": 76,
   "metadata": {},
   "outputs": [],
   "source": [
    "drop = ['subject','from', 'body']  # Lista de colunas a serem removidas do DataFrame"
   ]
  },
  {
   "cell_type": "code",
   "execution_count": 77,
   "metadata": {},
   "outputs": [],
   "source": [
    "df = df.drop(drop, axis=1) # Remover as colunas listadas na lista 'drop' do DataFrame 'df'"
   ]
  },
  {
   "cell_type": "code",
   "execution_count": 78,
   "metadata": {},
   "outputs": [],
   "source": [
    "df['cnpjs'] = df['cnpjs'].apply(lambda x: x[1] if len(x) > 1 else None) # Aplicar uma função para selecionar o segundo valor em 'cnpjs' se houver mais de um valor, caso contrário, atribuir None\n",
    "df['email'] = df['email'].apply(lambda x: x[2] if len(x) > 2 else None) # Aplicar uma função para selecionar o terceiro valor em 'email' se houver mais de um valor, caso contrário, atribuir None\n",
    "df['value'] = df['value'].apply(lambda x: x[0] if len(x) > 1 else None) # Aplicar uma função para selecionar o primeiro valor em 'value' se houver mais de um valor, caso contrário, atribuir None\n"
   ]
  },
  {
   "cell_type": "code",
   "execution_count": 79,
   "metadata": {},
   "outputs": [],
   "source": [
    "df = df.applymap(lambda x: str(x).strip('[]') if isinstance(x, list) else x) # Aplicar uma função para remover os colchetes de listas e espaços em branco das células\n",
    "df = df.applymap(lambda x: str(x).strip('') if isinstance(x, list) else x) # Aplicar uma função para remover espaços em branco vazios das células\n",
    "df = df.applymap(lambda x: x.replace(r\"'\", '') if isinstance(x, str) else x) # Aplicar uma função para remover aspas simples de strings nas células\n"
   ]
  },
  {
   "cell_type": "code",
   "execution_count": 80,
   "metadata": {},
   "outputs": [],
   "source": [
    "df['description'] = df['description1'].fillna('') + df['description2'].fillna('') # Criar uma nova coluna 'description' que combina os valores de 'description1' e 'description2' se algum valor estiver faltando(NaN), é preenchido com uma string vazia\n"
   ]
  },
  {
   "cell_type": "code",
   "execution_count": 81,
   "metadata": {},
   "outputs": [],
   "source": [
    "drop_description = ['description1', 'description2'] # Lista de colunas a serem removidas do DataFrame"
   ]
  },
  {
   "cell_type": "code",
   "execution_count": 82,
   "metadata": {},
   "outputs": [],
   "source": [
    "df = df.drop(drop_description, axis = 1) # Remover as colunas listadas na lista 'drop_description' do DataFrame 'df'"
   ]
  },
  {
   "cell_type": "code",
   "execution_count": 83,
   "metadata": {},
   "outputs": [],
   "source": [
    "df = df[['cnpjs', 'phone', 'social', 'email', 'quantity', 'description', 'value']] # Reorganizar as colunas do DataFrame 'df' na ordem especificada"
   ]
  },
  {
   "cell_type": "markdown",
   "metadata": {},
   "source": [
    "# Enviando para Google Sheets"
   ]
  },
  {
   "cell_type": "code",
   "execution_count": 84,
   "metadata": {},
   "outputs": [],
   "source": [
    "\n",
    "credentials = ServiceAccountCredentials.from_json_keyfile_name('credentials_google_sheets.json') # Carregar as credenciais do arquivo JSON para autenticação no Google Sheets\n",
    "client = gspread.authorize(credentials) # Autorizar o cliente usando as credenciais carregadas"
   ]
  },
  {
   "cell_type": "code",
   "execution_count": 85,
   "metadata": {},
   "outputs": [],
   "source": [
    "spreadsheet = client.open('Test Email') # Autorizar o cliente usando as credenciais carregadas"
   ]
  },
  {
   "cell_type": "code",
   "execution_count": 86,
   "metadata": {},
   "outputs": [],
   "source": [
    "index = 0 # Definir o índice da linha que deseja obter os dados\n",
    "data_to_send = df.iloc[index].values.tolist() # Obter os valores da linha no índice especificado como uma lista"
   ]
  },
  {
   "cell_type": "code",
   "execution_count": 87,
   "metadata": {},
   "outputs": [],
   "source": [
    "worksheet = spreadsheet.get_worksheet(0) # Obter a primeira planilha da planilha 'Test Email'"
   ]
  },
  {
   "cell_type": "code",
   "execution_count": 88,
   "metadata": {},
   "outputs": [],
   "source": [
    "for i, row in df.iterrows(): # Iterar sobre cada linha do DataFrame 'df'\n",
    "    data_to_send = row.values.tolist() # Obter os valores da linha atual como uma lista\n",
    "    worksheet.append_row(data_to_send)  # Adicionar uma nova linha à planilha 'worksheet' com os valores da linha atual"
   ]
  }
 ],
 "metadata": {
  "kernelspec": {
   "display_name": "Python 3",
   "language": "python",
   "name": "python3"
  },
  "language_info": {
   "codemirror_mode": {
    "name": "ipython",
    "version": 3
   },
   "file_extension": ".py",
   "mimetype": "text/x-python",
   "name": "python",
   "nbconvert_exporter": "python",
   "pygments_lexer": "ipython3",
   "version": "3.11.4"
  },
  "orig_nbformat": 4
 },
 "nbformat": 4,
 "nbformat_minor": 2
}
